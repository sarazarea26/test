{
 "cells": [
  {
   "cell_type": "code",
   "execution_count": 2,
   "metadata": {},
   "outputs": [],
   "source": [
    "import pandas as pd"
   ]
  },
  {
   "cell_type": "markdown",
   "metadata": {},
   "source": [
    "# Section 1: Dataset\n"
   ]
  },
  {
   "cell_type": "markdown",
   "metadata": {},
   "source": [
    "I chose a dataset of the top 550 bestselling books on Amazon from the years 2009-2019. I enjoy reading in my freetime, and I know many people purchase books using Amazon. I'm curious to see what books were most popular for that span of time. I found this dataset on kaggle. I want to use data science to analyze trends involving the user ratings, reviews, price, and genre of different books."
   ]
  },
  {
   "cell_type": "code",
   "execution_count": 3,
   "metadata": {},
   "outputs": [
    {
     "data": {
      "text/html": [
       "<div>\n",
       "<style scoped>\n",
       "    .dataframe tbody tr th:only-of-type {\n",
       "        vertical-align: middle;\n",
       "    }\n",
       "\n",
       "    .dataframe tbody tr th {\n",
       "        vertical-align: top;\n",
       "    }\n",
       "\n",
       "    .dataframe thead th {\n",
       "        text-align: right;\n",
       "    }\n",
       "</style>\n",
       "<table border=\"1\" class=\"dataframe\">\n",
       "  <thead>\n",
       "    <tr style=\"text-align: right;\">\n",
       "      <th></th>\n",
       "      <th>Name</th>\n",
       "      <th>Author</th>\n",
       "      <th>User Rating</th>\n",
       "      <th>Reviews</th>\n",
       "      <th>Price</th>\n",
       "      <th>Year</th>\n",
       "      <th>Genre</th>\n",
       "    </tr>\n",
       "  </thead>\n",
       "  <tbody>\n",
       "    <tr>\n",
       "      <th>0</th>\n",
       "      <td>10-Day Green Smoothie Cleanse</td>\n",
       "      <td>JJ Smith</td>\n",
       "      <td>4.7</td>\n",
       "      <td>17350</td>\n",
       "      <td>8</td>\n",
       "      <td>2016</td>\n",
       "      <td>Non Fiction</td>\n",
       "    </tr>\n",
       "    <tr>\n",
       "      <th>1</th>\n",
       "      <td>11/22/63: A Novel</td>\n",
       "      <td>Stephen King</td>\n",
       "      <td>4.6</td>\n",
       "      <td>2052</td>\n",
       "      <td>22</td>\n",
       "      <td>2011</td>\n",
       "      <td>Fiction</td>\n",
       "    </tr>\n",
       "    <tr>\n",
       "      <th>2</th>\n",
       "      <td>12 Rules for Life: An Antidote to Chaos</td>\n",
       "      <td>Jordan B. Peterson</td>\n",
       "      <td>4.7</td>\n",
       "      <td>18979</td>\n",
       "      <td>15</td>\n",
       "      <td>2018</td>\n",
       "      <td>Non Fiction</td>\n",
       "    </tr>\n",
       "    <tr>\n",
       "      <th>3</th>\n",
       "      <td>1984 (Signet Classics)</td>\n",
       "      <td>George Orwell</td>\n",
       "      <td>4.7</td>\n",
       "      <td>21424</td>\n",
       "      <td>6</td>\n",
       "      <td>2017</td>\n",
       "      <td>Fiction</td>\n",
       "    </tr>\n",
       "    <tr>\n",
       "      <th>4</th>\n",
       "      <td>5,000 Awesome Facts (About Everything!) (Natio...</td>\n",
       "      <td>National Geographic Kids</td>\n",
       "      <td>4.8</td>\n",
       "      <td>7665</td>\n",
       "      <td>12</td>\n",
       "      <td>2019</td>\n",
       "      <td>Non Fiction</td>\n",
       "    </tr>\n",
       "    <tr>\n",
       "      <th>...</th>\n",
       "      <td>...</td>\n",
       "      <td>...</td>\n",
       "      <td>...</td>\n",
       "      <td>...</td>\n",
       "      <td>...</td>\n",
       "      <td>...</td>\n",
       "      <td>...</td>\n",
       "    </tr>\n",
       "    <tr>\n",
       "      <th>545</th>\n",
       "      <td>Wrecking Ball (Diary of a Wimpy Kid Book 14)</td>\n",
       "      <td>Jeff Kinney</td>\n",
       "      <td>4.9</td>\n",
       "      <td>9413</td>\n",
       "      <td>8</td>\n",
       "      <td>2019</td>\n",
       "      <td>Fiction</td>\n",
       "    </tr>\n",
       "    <tr>\n",
       "      <th>546</th>\n",
       "      <td>You Are a Badass: How to Stop Doubting Your Gr...</td>\n",
       "      <td>Jen Sincero</td>\n",
       "      <td>4.7</td>\n",
       "      <td>14331</td>\n",
       "      <td>8</td>\n",
       "      <td>2016</td>\n",
       "      <td>Non Fiction</td>\n",
       "    </tr>\n",
       "    <tr>\n",
       "      <th>547</th>\n",
       "      <td>You Are a Badass: How to Stop Doubting Your Gr...</td>\n",
       "      <td>Jen Sincero</td>\n",
       "      <td>4.7</td>\n",
       "      <td>14331</td>\n",
       "      <td>8</td>\n",
       "      <td>2017</td>\n",
       "      <td>Non Fiction</td>\n",
       "    </tr>\n",
       "    <tr>\n",
       "      <th>548</th>\n",
       "      <td>You Are a Badass: How to Stop Doubting Your Gr...</td>\n",
       "      <td>Jen Sincero</td>\n",
       "      <td>4.7</td>\n",
       "      <td>14331</td>\n",
       "      <td>8</td>\n",
       "      <td>2018</td>\n",
       "      <td>Non Fiction</td>\n",
       "    </tr>\n",
       "    <tr>\n",
       "      <th>549</th>\n",
       "      <td>You Are a Badass: How to Stop Doubting Your Gr...</td>\n",
       "      <td>Jen Sincero</td>\n",
       "      <td>4.7</td>\n",
       "      <td>14331</td>\n",
       "      <td>8</td>\n",
       "      <td>2019</td>\n",
       "      <td>Non Fiction</td>\n",
       "    </tr>\n",
       "  </tbody>\n",
       "</table>\n",
       "<p>538 rows × 7 columns</p>\n",
       "</div>"
      ],
      "text/plain": [
       "                                                  Name  \\\n",
       "0                        10-Day Green Smoothie Cleanse   \n",
       "1                                    11/22/63: A Novel   \n",
       "2              12 Rules for Life: An Antidote to Chaos   \n",
       "3                               1984 (Signet Classics)   \n",
       "4    5,000 Awesome Facts (About Everything!) (Natio...   \n",
       "..                                                 ...   \n",
       "545       Wrecking Ball (Diary of a Wimpy Kid Book 14)   \n",
       "546  You Are a Badass: How to Stop Doubting Your Gr...   \n",
       "547  You Are a Badass: How to Stop Doubting Your Gr...   \n",
       "548  You Are a Badass: How to Stop Doubting Your Gr...   \n",
       "549  You Are a Badass: How to Stop Doubting Your Gr...   \n",
       "\n",
       "                       Author  User Rating  Reviews  Price  Year        Genre  \n",
       "0                    JJ Smith          4.7    17350      8  2016  Non Fiction  \n",
       "1                Stephen King          4.6     2052     22  2011      Fiction  \n",
       "2          Jordan B. Peterson          4.7    18979     15  2018  Non Fiction  \n",
       "3               George Orwell          4.7    21424      6  2017      Fiction  \n",
       "4    National Geographic Kids          4.8     7665     12  2019  Non Fiction  \n",
       "..                        ...          ...      ...    ...   ...          ...  \n",
       "545               Jeff Kinney          4.9     9413      8  2019      Fiction  \n",
       "546               Jen Sincero          4.7    14331      8  2016  Non Fiction  \n",
       "547               Jen Sincero          4.7    14331      8  2017  Non Fiction  \n",
       "548               Jen Sincero          4.7    14331      8  2018  Non Fiction  \n",
       "549               Jen Sincero          4.7    14331      8  2019  Non Fiction  \n",
       "\n",
       "[538 rows x 7 columns]"
      ]
     },
     "execution_count": 3,
     "metadata": {},
     "output_type": "execute_result"
    }
   ],
   "source": [
    "df = pd.read_csv('bestsellers_with_categories.csv')\n",
    "# I cleaned the data to remove books with prices of 0, which his might have been due to promotions or missing data\n",
    "df = df[df['Price'] > 0]\n",
    "df = df.dropna()\n",
    "df"
   ]
  },
  {
   "cell_type": "code",
   "execution_count": 4,
   "metadata": {},
   "outputs": [
    {
     "data": {
      "text/plain": [
       "Name            object\n",
       "Author          object\n",
       "User Rating    float64\n",
       "Reviews          int64\n",
       "Price            int64\n",
       "Year             int64\n",
       "Genre           object\n",
       "dtype: object"
      ]
     },
     "execution_count": 4,
     "metadata": {},
     "output_type": "execute_result"
    }
   ],
   "source": [
    "df.dtypes"
   ]
  },
  {
   "cell_type": "code",
   "execution_count": 5,
   "metadata": {},
   "outputs": [
    {
     "data": {
      "text/plain": [
       "(538, 7)"
      ]
     },
     "execution_count": 5,
     "metadata": {},
     "output_type": "execute_result"
    }
   ],
   "source": [
    "#Number of rows and columns\n",
    "df.shape\n"
   ]
  },
  {
   "cell_type": "code",
   "execution_count": 6,
   "metadata": {},
   "outputs": [
    {
     "data": {
      "text/plain": [
       "Index(['Name', 'Author', 'User Rating', 'Reviews', 'Price', 'Year', 'Genre'], dtype='object')"
      ]
     },
     "execution_count": 6,
     "metadata": {},
     "output_type": "execute_result"
    }
   ],
   "source": [
    "#Names of columns\n",
    "df.columns"
   ]
  },
  {
   "cell_type": "markdown",
   "metadata": {},
   "source": [
    "# Section 2: Exploratory Data Analysis"
   ]
  },
  {
   "cell_type": "markdown",
   "metadata": {},
   "source": [
    "Some of the descriptive statistics using the df.describe() function can help give a broad overview of the data, like  mean, std, min, 25%, 50%, 75%, and max. The mean can help give an overview of the average value for the User Rating, Reviews, Price, and Year columns. The std column helps describe how spread out the data is. The 50% row shows me the median user rating (4.6 stars), reviews (8580), price for bestselling books ($11), and the median year 2014 (which makes sense because the dataset is from 2009-2019)."
   ]
  },
  {
   "cell_type": "code",
   "execution_count": 7,
   "metadata": {},
   "outputs": [
    {
     "data": {
      "text/html": [
       "<div>\n",
       "<style scoped>\n",
       "    .dataframe tbody tr th:only-of-type {\n",
       "        vertical-align: middle;\n",
       "    }\n",
       "\n",
       "    .dataframe tbody tr th {\n",
       "        vertical-align: top;\n",
       "    }\n",
       "\n",
       "    .dataframe thead th {\n",
       "        text-align: right;\n",
       "    }\n",
       "</style>\n",
       "<table border=\"1\" class=\"dataframe\">\n",
       "  <thead>\n",
       "    <tr style=\"text-align: right;\">\n",
       "      <th></th>\n",
       "      <th>User Rating</th>\n",
       "      <th>Reviews</th>\n",
       "      <th>Price</th>\n",
       "      <th>Year</th>\n",
       "    </tr>\n",
       "  </thead>\n",
       "  <tbody>\n",
       "    <tr>\n",
       "      <th>count</th>\n",
       "      <td>538.000000</td>\n",
       "      <td>538.000000</td>\n",
       "      <td>538.000000</td>\n",
       "      <td>538.000000</td>\n",
       "    </tr>\n",
       "    <tr>\n",
       "      <th>mean</th>\n",
       "      <td>4.615056</td>\n",
       "      <td>11971.776952</td>\n",
       "      <td>13.392193</td>\n",
       "      <td>2014.001859</td>\n",
       "    </tr>\n",
       "    <tr>\n",
       "      <th>std</th>\n",
       "      <td>0.228052</td>\n",
       "      <td>11750.508068</td>\n",
       "      <td>10.782447</td>\n",
       "      <td>3.187206</td>\n",
       "    </tr>\n",
       "    <tr>\n",
       "      <th>min</th>\n",
       "      <td>3.300000</td>\n",
       "      <td>37.000000</td>\n",
       "      <td>1.000000</td>\n",
       "      <td>2009.000000</td>\n",
       "    </tr>\n",
       "    <tr>\n",
       "      <th>25%</th>\n",
       "      <td>4.500000</td>\n",
       "      <td>4173.500000</td>\n",
       "      <td>7.000000</td>\n",
       "      <td>2011.000000</td>\n",
       "    </tr>\n",
       "    <tr>\n",
       "      <th>50%</th>\n",
       "      <td>4.700000</td>\n",
       "      <td>8580.000000</td>\n",
       "      <td>11.000000</td>\n",
       "      <td>2014.000000</td>\n",
       "    </tr>\n",
       "    <tr>\n",
       "      <th>75%</th>\n",
       "      <td>4.800000</td>\n",
       "      <td>17030.500000</td>\n",
       "      <td>16.000000</td>\n",
       "      <td>2017.000000</td>\n",
       "    </tr>\n",
       "    <tr>\n",
       "      <th>max</th>\n",
       "      <td>4.900000</td>\n",
       "      <td>87841.000000</td>\n",
       "      <td>105.000000</td>\n",
       "      <td>2019.000000</td>\n",
       "    </tr>\n",
       "  </tbody>\n",
       "</table>\n",
       "</div>"
      ],
      "text/plain": [
       "       User Rating       Reviews       Price         Year\n",
       "count   538.000000    538.000000  538.000000   538.000000\n",
       "mean      4.615056  11971.776952   13.392193  2014.001859\n",
       "std       0.228052  11750.508068   10.782447     3.187206\n",
       "min       3.300000     37.000000    1.000000  2009.000000\n",
       "25%       4.500000   4173.500000    7.000000  2011.000000\n",
       "50%       4.700000   8580.000000   11.000000  2014.000000\n",
       "75%       4.800000  17030.500000   16.000000  2017.000000\n",
       "max       4.900000  87841.000000  105.000000  2019.000000"
      ]
     },
     "execution_count": 7,
     "metadata": {},
     "output_type": "execute_result"
    }
   ],
   "source": [
    "df.describe()"
   ]
  },
  {
   "cell_type": "markdown",
   "metadata": {},
   "source": [
    "I used the nlargest function to find the 20 books wihth the highest user ratings. I found that many children's books seem to have the highest user ratings. "
   ]
  },
  {
   "cell_type": "code",
   "execution_count": 8,
   "metadata": {},
   "outputs": [
    {
     "data": {
      "text/html": [
       "<div>\n",
       "<style scoped>\n",
       "    .dataframe tbody tr th:only-of-type {\n",
       "        vertical-align: middle;\n",
       "    }\n",
       "\n",
       "    .dataframe tbody tr th {\n",
       "        vertical-align: top;\n",
       "    }\n",
       "\n",
       "    .dataframe thead th {\n",
       "        text-align: right;\n",
       "    }\n",
       "</style>\n",
       "<table border=\"1\" class=\"dataframe\">\n",
       "  <thead>\n",
       "    <tr style=\"text-align: right;\">\n",
       "      <th></th>\n",
       "      <th>Name</th>\n",
       "      <th>Author</th>\n",
       "      <th>User Rating</th>\n",
       "      <th>Reviews</th>\n",
       "      <th>Genre</th>\n",
       "    </tr>\n",
       "  </thead>\n",
       "  <tbody>\n",
       "    <tr>\n",
       "      <th>40</th>\n",
       "      <td>Brown Bear, Brown Bear, What Do You See?</td>\n",
       "      <td>Bill Martin Jr.</td>\n",
       "      <td>4.9</td>\n",
       "      <td>14344</td>\n",
       "      <td>Fiction</td>\n",
       "    </tr>\n",
       "    <tr>\n",
       "      <th>81</th>\n",
       "      <td>Dog Man and Cat Kid: From the Creator of Capta...</td>\n",
       "      <td>Dav Pilkey</td>\n",
       "      <td>4.9</td>\n",
       "      <td>5062</td>\n",
       "      <td>Fiction</td>\n",
       "    </tr>\n",
       "    <tr>\n",
       "      <th>82</th>\n",
       "      <td>Dog Man: A Tale of Two Kitties: From the Creat...</td>\n",
       "      <td>Dav Pilkey</td>\n",
       "      <td>4.9</td>\n",
       "      <td>4786</td>\n",
       "      <td>Fiction</td>\n",
       "    </tr>\n",
       "    <tr>\n",
       "      <th>83</th>\n",
       "      <td>Dog Man: Brawl of the Wild: From the Creator o...</td>\n",
       "      <td>Dav Pilkey</td>\n",
       "      <td>4.9</td>\n",
       "      <td>7235</td>\n",
       "      <td>Fiction</td>\n",
       "    </tr>\n",
       "    <tr>\n",
       "      <th>85</th>\n",
       "      <td>Dog Man: Fetch-22: From the Creator of Captain...</td>\n",
       "      <td>Dav Pilkey</td>\n",
       "      <td>4.9</td>\n",
       "      <td>12619</td>\n",
       "      <td>Fiction</td>\n",
       "    </tr>\n",
       "    <tr>\n",
       "      <th>86</th>\n",
       "      <td>Dog Man: For Whom the Ball Rolls: From the Cre...</td>\n",
       "      <td>Dav Pilkey</td>\n",
       "      <td>4.9</td>\n",
       "      <td>9089</td>\n",
       "      <td>Fiction</td>\n",
       "    </tr>\n",
       "    <tr>\n",
       "      <th>87</th>\n",
       "      <td>Dog Man: Lord of the Fleas: From the Creator o...</td>\n",
       "      <td>Dav Pilkey</td>\n",
       "      <td>4.9</td>\n",
       "      <td>5470</td>\n",
       "      <td>Fiction</td>\n",
       "    </tr>\n",
       "    <tr>\n",
       "      <th>146</th>\n",
       "      <td>Goodnight, Goodnight Construction Site (Hardco...</td>\n",
       "      <td>Sherri Duskey Rinker</td>\n",
       "      <td>4.9</td>\n",
       "      <td>7038</td>\n",
       "      <td>Fiction</td>\n",
       "    </tr>\n",
       "    <tr>\n",
       "      <th>151</th>\n",
       "      <td>Hamilton: The Revolution</td>\n",
       "      <td>Lin-Manuel Miranda</td>\n",
       "      <td>4.9</td>\n",
       "      <td>5867</td>\n",
       "      <td>Non Fiction</td>\n",
       "    </tr>\n",
       "    <tr>\n",
       "      <th>153</th>\n",
       "      <td>Harry Potter and the Chamber of Secrets: The I...</td>\n",
       "      <td>J.K. Rowling</td>\n",
       "      <td>4.9</td>\n",
       "      <td>19622</td>\n",
       "      <td>Fiction</td>\n",
       "    </tr>\n",
       "    <tr>\n",
       "      <th>155</th>\n",
       "      <td>Harry Potter and the Goblet of Fire: The Illus...</td>\n",
       "      <td>J. K. Rowling</td>\n",
       "      <td>4.9</td>\n",
       "      <td>7758</td>\n",
       "      <td>Fiction</td>\n",
       "    </tr>\n",
       "    <tr>\n",
       "      <th>156</th>\n",
       "      <td>Harry Potter and the Prisoner of Azkaban: The ...</td>\n",
       "      <td>J.K. Rowling</td>\n",
       "      <td>4.9</td>\n",
       "      <td>3146</td>\n",
       "      <td>Fiction</td>\n",
       "    </tr>\n",
       "    <tr>\n",
       "      <th>157</th>\n",
       "      <td>Harry Potter and the Sorcerer's Stone: The Ill...</td>\n",
       "      <td>J.K. Rowling</td>\n",
       "      <td>4.9</td>\n",
       "      <td>10052</td>\n",
       "      <td>Fiction</td>\n",
       "    </tr>\n",
       "    <tr>\n",
       "      <th>174</th>\n",
       "      <td>Humans of New York : Stories</td>\n",
       "      <td>Brandon Stanton</td>\n",
       "      <td>4.9</td>\n",
       "      <td>2812</td>\n",
       "      <td>Non Fiction</td>\n",
       "    </tr>\n",
       "    <tr>\n",
       "      <th>187</th>\n",
       "      <td>Jesus Calling: Enjoying Peace in His Presence ...</td>\n",
       "      <td>Sarah Young</td>\n",
       "      <td>4.9</td>\n",
       "      <td>19576</td>\n",
       "      <td>Non Fiction</td>\n",
       "    </tr>\n",
       "    <tr>\n",
       "      <th>207</th>\n",
       "      <td>Last Week Tonight with John Oliver Presents A ...</td>\n",
       "      <td>Jill Twiss</td>\n",
       "      <td>4.9</td>\n",
       "      <td>11881</td>\n",
       "      <td>Fiction</td>\n",
       "    </tr>\n",
       "    <tr>\n",
       "      <th>244</th>\n",
       "      <td>Obama: An Intimate Portrait</td>\n",
       "      <td>Pete Souza</td>\n",
       "      <td>4.9</td>\n",
       "      <td>3192</td>\n",
       "      <td>Non Fiction</td>\n",
       "    </tr>\n",
       "    <tr>\n",
       "      <th>245</th>\n",
       "      <td>Oh, the Places You'll Go!</td>\n",
       "      <td>Dr. Seuss</td>\n",
       "      <td>4.9</td>\n",
       "      <td>21834</td>\n",
       "      <td>Fiction</td>\n",
       "    </tr>\n",
       "    <tr>\n",
       "      <th>288</th>\n",
       "      <td>Rush Revere and the Brave Pilgrims: Time-Trave...</td>\n",
       "      <td>Rush Limbaugh</td>\n",
       "      <td>4.9</td>\n",
       "      <td>7150</td>\n",
       "      <td>Fiction</td>\n",
       "    </tr>\n",
       "    <tr>\n",
       "      <th>289</th>\n",
       "      <td>Rush Revere and the First Patriots: Time-Trave...</td>\n",
       "      <td>Rush Limbaugh</td>\n",
       "      <td>4.9</td>\n",
       "      <td>3836</td>\n",
       "      <td>Fiction</td>\n",
       "    </tr>\n",
       "  </tbody>\n",
       "</table>\n",
       "</div>"
      ],
      "text/plain": [
       "                                                  Name                Author  \\\n",
       "40            Brown Bear, Brown Bear, What Do You See?       Bill Martin Jr.   \n",
       "81   Dog Man and Cat Kid: From the Creator of Capta...            Dav Pilkey   \n",
       "82   Dog Man: A Tale of Two Kitties: From the Creat...            Dav Pilkey   \n",
       "83   Dog Man: Brawl of the Wild: From the Creator o...            Dav Pilkey   \n",
       "85   Dog Man: Fetch-22: From the Creator of Captain...            Dav Pilkey   \n",
       "86   Dog Man: For Whom the Ball Rolls: From the Cre...            Dav Pilkey   \n",
       "87   Dog Man: Lord of the Fleas: From the Creator o...            Dav Pilkey   \n",
       "146  Goodnight, Goodnight Construction Site (Hardco...  Sherri Duskey Rinker   \n",
       "151                           Hamilton: The Revolution    Lin-Manuel Miranda   \n",
       "153  Harry Potter and the Chamber of Secrets: The I...          J.K. Rowling   \n",
       "155  Harry Potter and the Goblet of Fire: The Illus...         J. K. Rowling   \n",
       "156  Harry Potter and the Prisoner of Azkaban: The ...          J.K. Rowling   \n",
       "157  Harry Potter and the Sorcerer's Stone: The Ill...          J.K. Rowling   \n",
       "174                       Humans of New York : Stories       Brandon Stanton   \n",
       "187  Jesus Calling: Enjoying Peace in His Presence ...           Sarah Young   \n",
       "207  Last Week Tonight with John Oliver Presents A ...            Jill Twiss   \n",
       "244                        Obama: An Intimate Portrait            Pete Souza   \n",
       "245                          Oh, the Places You'll Go!             Dr. Seuss   \n",
       "288  Rush Revere and the Brave Pilgrims: Time-Trave...         Rush Limbaugh   \n",
       "289  Rush Revere and the First Patriots: Time-Trave...         Rush Limbaugh   \n",
       "\n",
       "     User Rating  Reviews        Genre  \n",
       "40           4.9    14344      Fiction  \n",
       "81           4.9     5062      Fiction  \n",
       "82           4.9     4786      Fiction  \n",
       "83           4.9     7235      Fiction  \n",
       "85           4.9    12619      Fiction  \n",
       "86           4.9     9089      Fiction  \n",
       "87           4.9     5470      Fiction  \n",
       "146          4.9     7038      Fiction  \n",
       "151          4.9     5867  Non Fiction  \n",
       "153          4.9    19622      Fiction  \n",
       "155          4.9     7758      Fiction  \n",
       "156          4.9     3146      Fiction  \n",
       "157          4.9    10052      Fiction  \n",
       "174          4.9     2812  Non Fiction  \n",
       "187          4.9    19576  Non Fiction  \n",
       "207          4.9    11881      Fiction  \n",
       "244          4.9     3192  Non Fiction  \n",
       "245          4.9    21834      Fiction  \n",
       "288          4.9     7150      Fiction  \n",
       "289          4.9     3836      Fiction  "
      ]
     },
     "execution_count": 8,
     "metadata": {},
     "output_type": "execute_result"
    }
   ],
   "source": [
    "#For this specific analysis, I dropped the year and price columns because there were some duplicates of the same title with different years and prices\n",
    "df1 = df.drop(columns = [\"Year\"])\n",
    "# I named the below dataframe df_price so I can use it later when analyzing price while avoiding duplicate titles\n",
    "df_price = df1.drop_duplicates()\n",
    "df3 = df_price.drop(columns = \"Price\")\n",
    "#I named the below dataframe df_reviews so I can use it when analyzing reviews while avoiding duplicate titles\n",
    "df_reviews= df3.drop_duplicates()\n",
    "df_reviews.nlargest(20,'User Rating')"
   ]
  },
  {
   "cell_type": "markdown",
   "metadata": {},
   "source": [
    "\n",
    "I analyzed the dataset to identify the books with the most reviews, revealing more young adult titles. "
   ]
  },
  {
   "cell_type": "code",
   "execution_count": 9,
   "metadata": {},
   "outputs": [
    {
     "data": {
      "text/html": [
       "<div>\n",
       "<style scoped>\n",
       "    .dataframe tbody tr th:only-of-type {\n",
       "        vertical-align: middle;\n",
       "    }\n",
       "\n",
       "    .dataframe tbody tr th {\n",
       "        vertical-align: top;\n",
       "    }\n",
       "\n",
       "    .dataframe thead th {\n",
       "        text-align: right;\n",
       "    }\n",
       "</style>\n",
       "<table border=\"1\" class=\"dataframe\">\n",
       "  <thead>\n",
       "    <tr style=\"text-align: right;\">\n",
       "      <th></th>\n",
       "      <th>Name</th>\n",
       "      <th>Author</th>\n",
       "      <th>User Rating</th>\n",
       "      <th>Reviews</th>\n",
       "      <th>Genre</th>\n",
       "    </tr>\n",
       "  </thead>\n",
       "  <tbody>\n",
       "    <tr>\n",
       "      <th>534</th>\n",
       "      <td>Where the Crawdads Sing</td>\n",
       "      <td>Delia Owens</td>\n",
       "      <td>4.8</td>\n",
       "      <td>87841</td>\n",
       "      <td>Fiction</td>\n",
       "    </tr>\n",
       "    <tr>\n",
       "      <th>382</th>\n",
       "      <td>The Girl on the Train</td>\n",
       "      <td>Paula Hawkins</td>\n",
       "      <td>4.1</td>\n",
       "      <td>79446</td>\n",
       "      <td>Fiction</td>\n",
       "    </tr>\n",
       "    <tr>\n",
       "      <th>32</th>\n",
       "      <td>Becoming</td>\n",
       "      <td>Michelle Obama</td>\n",
       "      <td>4.8</td>\n",
       "      <td>61133</td>\n",
       "      <td>Non Fiction</td>\n",
       "    </tr>\n",
       "    <tr>\n",
       "      <th>135</th>\n",
       "      <td>Gone Girl</td>\n",
       "      <td>Gillian Flynn</td>\n",
       "      <td>4.0</td>\n",
       "      <td>57271</td>\n",
       "      <td>Fiction</td>\n",
       "    </tr>\n",
       "    <tr>\n",
       "      <th>365</th>\n",
       "      <td>The Fault in Our Stars</td>\n",
       "      <td>John Green</td>\n",
       "      <td>4.7</td>\n",
       "      <td>50482</td>\n",
       "      <td>Fiction</td>\n",
       "    </tr>\n",
       "    <tr>\n",
       "      <th>437</th>\n",
       "      <td>The Nightingale: A Novel</td>\n",
       "      <td>Kristin Hannah</td>\n",
       "      <td>4.8</td>\n",
       "      <td>49288</td>\n",
       "      <td>Fiction</td>\n",
       "    </tr>\n",
       "    <tr>\n",
       "      <th>106</th>\n",
       "      <td>Fifty Shades of Grey: Book One of the Fifty Sh...</td>\n",
       "      <td>E L James</td>\n",
       "      <td>3.8</td>\n",
       "      <td>47265</td>\n",
       "      <td>Fiction</td>\n",
       "    </tr>\n",
       "    <tr>\n",
       "      <th>433</th>\n",
       "      <td>The Martian</td>\n",
       "      <td>Andy Weir</td>\n",
       "      <td>4.7</td>\n",
       "      <td>39459</td>\n",
       "      <td>Fiction</td>\n",
       "    </tr>\n",
       "    <tr>\n",
       "      <th>20</th>\n",
       "      <td>All the Light We Cannot See</td>\n",
       "      <td>Anthony Doerr</td>\n",
       "      <td>4.6</td>\n",
       "      <td>36348</td>\n",
       "      <td>Fiction</td>\n",
       "    </tr>\n",
       "    <tr>\n",
       "      <th>338</th>\n",
       "      <td>The Alchemist</td>\n",
       "      <td>Paulo Coelho</td>\n",
       "      <td>4.7</td>\n",
       "      <td>35799</td>\n",
       "      <td>Fiction</td>\n",
       "    </tr>\n",
       "    <tr>\n",
       "      <th>392</th>\n",
       "      <td>The Goldfinch: A Novel (Pulitzer Prize for Fic...</td>\n",
       "      <td>Donna Tartt</td>\n",
       "      <td>3.9</td>\n",
       "      <td>33844</td>\n",
       "      <td>Fiction</td>\n",
       "    </tr>\n",
       "    <tr>\n",
       "      <th>407</th>\n",
       "      <td>The Hunger Games</td>\n",
       "      <td>Suzanne Collins</td>\n",
       "      <td>4.7</td>\n",
       "      <td>32122</td>\n",
       "      <td>Fiction</td>\n",
       "    </tr>\n",
       "    <tr>\n",
       "      <th>408</th>\n",
       "      <td>The Hunger Games (Book 1)</td>\n",
       "      <td>Suzanne Collins</td>\n",
       "      <td>4.7</td>\n",
       "      <td>32122</td>\n",
       "      <td>Fiction</td>\n",
       "    </tr>\n",
       "    <tr>\n",
       "      <th>490</th>\n",
       "      <td>The Wonky Donkey</td>\n",
       "      <td>Craig Smith</td>\n",
       "      <td>4.8</td>\n",
       "      <td>30183</td>\n",
       "      <td>Fiction</td>\n",
       "    </tr>\n",
       "    <tr>\n",
       "      <th>515</th>\n",
       "      <td>Unbroken: A World War II Story of Survival, Re...</td>\n",
       "      <td>Laura Hillenbrand</td>\n",
       "      <td>4.8</td>\n",
       "      <td>29673</td>\n",
       "      <td>Non Fiction</td>\n",
       "    </tr>\n",
       "    <tr>\n",
       "      <th>182</th>\n",
       "      <td>Inferno</td>\n",
       "      <td>Dan Brown</td>\n",
       "      <td>4.1</td>\n",
       "      <td>29651</td>\n",
       "      <td>Fiction</td>\n",
       "    </tr>\n",
       "    <tr>\n",
       "      <th>399</th>\n",
       "      <td>The Handmaid's Tale</td>\n",
       "      <td>Margaret Atwood</td>\n",
       "      <td>4.3</td>\n",
       "      <td>29442</td>\n",
       "      <td>Fiction</td>\n",
       "    </tr>\n",
       "    <tr>\n",
       "      <th>97</th>\n",
       "      <td>Educated: A Memoir</td>\n",
       "      <td>Tara Westover</td>\n",
       "      <td>4.7</td>\n",
       "      <td>28729</td>\n",
       "      <td>Non Fiction</td>\n",
       "    </tr>\n",
       "    <tr>\n",
       "      <th>462</th>\n",
       "      <td>The Silent Patient</td>\n",
       "      <td>Alex Michaelides</td>\n",
       "      <td>4.5</td>\n",
       "      <td>27536</td>\n",
       "      <td>Fiction</td>\n",
       "    </tr>\n",
       "    <tr>\n",
       "      <th>75</th>\n",
       "      <td>Divergent</td>\n",
       "      <td>Veronica Roth</td>\n",
       "      <td>4.6</td>\n",
       "      <td>27098</td>\n",
       "      <td>Fiction</td>\n",
       "    </tr>\n",
       "  </tbody>\n",
       "</table>\n",
       "</div>"
      ],
      "text/plain": [
       "                                                  Name             Author  \\\n",
       "534                            Where the Crawdads Sing        Delia Owens   \n",
       "382                              The Girl on the Train      Paula Hawkins   \n",
       "32                                            Becoming     Michelle Obama   \n",
       "135                                          Gone Girl      Gillian Flynn   \n",
       "365                             The Fault in Our Stars         John Green   \n",
       "437                           The Nightingale: A Novel     Kristin Hannah   \n",
       "106  Fifty Shades of Grey: Book One of the Fifty Sh...          E L James   \n",
       "433                                        The Martian          Andy Weir   \n",
       "20                         All the Light We Cannot See      Anthony Doerr   \n",
       "338                                      The Alchemist       Paulo Coelho   \n",
       "392  The Goldfinch: A Novel (Pulitzer Prize for Fic...        Donna Tartt   \n",
       "407                                   The Hunger Games    Suzanne Collins   \n",
       "408                          The Hunger Games (Book 1)    Suzanne Collins   \n",
       "490                                   The Wonky Donkey        Craig Smith   \n",
       "515  Unbroken: A World War II Story of Survival, Re...  Laura Hillenbrand   \n",
       "182                                            Inferno          Dan Brown   \n",
       "399                                The Handmaid's Tale    Margaret Atwood   \n",
       "97                                  Educated: A Memoir      Tara Westover   \n",
       "462                                 The Silent Patient   Alex Michaelides   \n",
       "75                                           Divergent      Veronica Roth   \n",
       "\n",
       "     User Rating  Reviews        Genre  \n",
       "534          4.8    87841      Fiction  \n",
       "382          4.1    79446      Fiction  \n",
       "32           4.8    61133  Non Fiction  \n",
       "135          4.0    57271      Fiction  \n",
       "365          4.7    50482      Fiction  \n",
       "437          4.8    49288      Fiction  \n",
       "106          3.8    47265      Fiction  \n",
       "433          4.7    39459      Fiction  \n",
       "20           4.6    36348      Fiction  \n",
       "338          4.7    35799      Fiction  \n",
       "392          3.9    33844      Fiction  \n",
       "407          4.7    32122      Fiction  \n",
       "408          4.7    32122      Fiction  \n",
       "490          4.8    30183      Fiction  \n",
       "515          4.8    29673  Non Fiction  \n",
       "182          4.1    29651      Fiction  \n",
       "399          4.3    29442      Fiction  \n",
       "97           4.7    28729  Non Fiction  \n",
       "462          4.5    27536      Fiction  \n",
       "75           4.6    27098      Fiction  "
      ]
     },
     "execution_count": 9,
     "metadata": {},
     "output_type": "execute_result"
    }
   ],
   "source": [
    "df_reviews.nlargest(20,'Reviews')"
   ]
  },
  {
   "cell_type": "markdown",
   "metadata": {},
   "source": [
    "I used the groupby function to see how many books of each genre there were. I found out there were more nonfiction books."
   ]
  },
  {
   "cell_type": "code",
   "execution_count": 10,
   "metadata": {},
   "outputs": [
    {
     "data": {
      "text/html": [
       "<div>\n",
       "<style scoped>\n",
       "    .dataframe tbody tr th:only-of-type {\n",
       "        vertical-align: middle;\n",
       "    }\n",
       "\n",
       "    .dataframe tbody tr th {\n",
       "        vertical-align: top;\n",
       "    }\n",
       "\n",
       "    .dataframe thead th {\n",
       "        text-align: right;\n",
       "    }\n",
       "</style>\n",
       "<table border=\"1\" class=\"dataframe\">\n",
       "  <thead>\n",
       "    <tr style=\"text-align: right;\">\n",
       "      <th></th>\n",
       "      <th>Genre</th>\n",
       "      <th>Name</th>\n",
       "      <th>Author</th>\n",
       "      <th>User Rating</th>\n",
       "      <th>Reviews</th>\n",
       "    </tr>\n",
       "  </thead>\n",
       "  <tbody>\n",
       "    <tr>\n",
       "      <th>0</th>\n",
       "      <td>Fiction</td>\n",
       "      <td>153</td>\n",
       "      <td>153</td>\n",
       "      <td>153</td>\n",
       "      <td>153</td>\n",
       "    </tr>\n",
       "    <tr>\n",
       "      <th>1</th>\n",
       "      <td>Non Fiction</td>\n",
       "      <td>191</td>\n",
       "      <td>191</td>\n",
       "      <td>191</td>\n",
       "      <td>191</td>\n",
       "    </tr>\n",
       "  </tbody>\n",
       "</table>\n",
       "</div>"
      ],
      "text/plain": [
       "         Genre  Name  Author  User Rating  Reviews\n",
       "0      Fiction   153     153          153      153\n",
       "1  Non Fiction   191     191          191      191"
      ]
     },
     "execution_count": 10,
     "metadata": {},
     "output_type": "execute_result"
    }
   ],
   "source": [
    "#I used df_reviews here to remove duplicates as I was not analyzing data related to price and year, only genre\n",
    "dfgenre = df_reviews.groupby(\"Genre\").agg(\"count\").reset_index()\n",
    "dfgenre"
   ]
  },
  {
   "cell_type": "markdown",
   "metadata": {},
   "source": [
    "I used the nlargest function to find the bestsellers with the highest price. "
   ]
  },
  {
   "cell_type": "code",
   "execution_count": 11,
   "metadata": {},
   "outputs": [
    {
     "data": {
      "text/html": [
       "<div>\n",
       "<style scoped>\n",
       "    .dataframe tbody tr th:only-of-type {\n",
       "        vertical-align: middle;\n",
       "    }\n",
       "\n",
       "    .dataframe tbody tr th {\n",
       "        vertical-align: top;\n",
       "    }\n",
       "\n",
       "    .dataframe thead th {\n",
       "        text-align: right;\n",
       "    }\n",
       "</style>\n",
       "<table border=\"1\" class=\"dataframe\">\n",
       "  <thead>\n",
       "    <tr style=\"text-align: right;\">\n",
       "      <th></th>\n",
       "      <th>Name</th>\n",
       "      <th>Author</th>\n",
       "      <th>User Rating</th>\n",
       "      <th>Reviews</th>\n",
       "      <th>Price</th>\n",
       "      <th>Genre</th>\n",
       "    </tr>\n",
       "  </thead>\n",
       "  <tbody>\n",
       "    <tr>\n",
       "      <th>69</th>\n",
       "      <td>Diagnostic and Statistical Manual of Mental Di...</td>\n",
       "      <td>American Psychiatric Association</td>\n",
       "      <td>4.5</td>\n",
       "      <td>6679</td>\n",
       "      <td>105</td>\n",
       "      <td>Non Fiction</td>\n",
       "    </tr>\n",
       "    <tr>\n",
       "      <th>473</th>\n",
       "      <td>The Twilight Saga Collection</td>\n",
       "      <td>Stephenie Meyer</td>\n",
       "      <td>4.7</td>\n",
       "      <td>3801</td>\n",
       "      <td>82</td>\n",
       "      <td>Fiction</td>\n",
       "    </tr>\n",
       "    <tr>\n",
       "      <th>151</th>\n",
       "      <td>Hamilton: The Revolution</td>\n",
       "      <td>Lin-Manuel Miranda</td>\n",
       "      <td>4.9</td>\n",
       "      <td>5867</td>\n",
       "      <td>54</td>\n",
       "      <td>Non Fiction</td>\n",
       "    </tr>\n",
       "    <tr>\n",
       "      <th>346</th>\n",
       "      <td>The Book of Basketball: The NBA According to T...</td>\n",
       "      <td>Bill Simmons</td>\n",
       "      <td>4.7</td>\n",
       "      <td>858</td>\n",
       "      <td>53</td>\n",
       "      <td>Non Fiction</td>\n",
       "    </tr>\n",
       "    <tr>\n",
       "      <th>159</th>\n",
       "      <td>Harry Potter Paperback Box Set (Books 1-7)</td>\n",
       "      <td>J. K. Rowling</td>\n",
       "      <td>4.8</td>\n",
       "      <td>13471</td>\n",
       "      <td>52</td>\n",
       "      <td>Fiction</td>\n",
       "    </tr>\n",
       "    <tr>\n",
       "      <th>271</th>\n",
       "      <td>Publication Manual of the American Psychologic...</td>\n",
       "      <td>American Psychological Association</td>\n",
       "      <td>4.5</td>\n",
       "      <td>8580</td>\n",
       "      <td>46</td>\n",
       "      <td>Non Fiction</td>\n",
       "    </tr>\n",
       "    <tr>\n",
       "      <th>524</th>\n",
       "      <td>Watchmen</td>\n",
       "      <td>Alan Moore</td>\n",
       "      <td>4.8</td>\n",
       "      <td>3829</td>\n",
       "      <td>42</td>\n",
       "      <td>Fiction</td>\n",
       "    </tr>\n",
       "    <tr>\n",
       "      <th>439</th>\n",
       "      <td>The Official SAT Study Guide</td>\n",
       "      <td>The College Board</td>\n",
       "      <td>4.4</td>\n",
       "      <td>1201</td>\n",
       "      <td>40</td>\n",
       "      <td>Non Fiction</td>\n",
       "    </tr>\n",
       "    <tr>\n",
       "      <th>338</th>\n",
       "      <td>The Alchemist</td>\n",
       "      <td>Paulo Coelho</td>\n",
       "      <td>4.7</td>\n",
       "      <td>35799</td>\n",
       "      <td>39</td>\n",
       "      <td>Fiction</td>\n",
       "    </tr>\n",
       "    <tr>\n",
       "      <th>444</th>\n",
       "      <td>The Official SAT Study Guide, 2016 Edition (Of...</td>\n",
       "      <td>The College Board</td>\n",
       "      <td>4.3</td>\n",
       "      <td>807</td>\n",
       "      <td>36</td>\n",
       "      <td>Non Fiction</td>\n",
       "    </tr>\n",
       "    <tr>\n",
       "      <th>12</th>\n",
       "      <td>A Stolen Life: A Memoir</td>\n",
       "      <td>Jaycee Dugard</td>\n",
       "      <td>4.6</td>\n",
       "      <td>4149</td>\n",
       "      <td>32</td>\n",
       "      <td>Non Fiction</td>\n",
       "    </tr>\n",
       "    <tr>\n",
       "      <th>108</th>\n",
       "      <td>Fifty Shades Trilogy (Fifty Shades of Grey / F...</td>\n",
       "      <td>E L James</td>\n",
       "      <td>4.5</td>\n",
       "      <td>13964</td>\n",
       "      <td>32</td>\n",
       "      <td>Fiction</td>\n",
       "    </tr>\n",
       "    <tr>\n",
       "      <th>6</th>\n",
       "      <td>A Game of Thrones / A Clash of Kings / A Storm...</td>\n",
       "      <td>George R. R. Martin</td>\n",
       "      <td>4.7</td>\n",
       "      <td>19735</td>\n",
       "      <td>30</td>\n",
       "      <td>Fiction</td>\n",
       "    </tr>\n",
       "    <tr>\n",
       "      <th>153</th>\n",
       "      <td>Harry Potter and the Chamber of Secrets: The I...</td>\n",
       "      <td>J.K. Rowling</td>\n",
       "      <td>4.9</td>\n",
       "      <td>19622</td>\n",
       "      <td>30</td>\n",
       "      <td>Fiction</td>\n",
       "    </tr>\n",
       "    <tr>\n",
       "      <th>156</th>\n",
       "      <td>Harry Potter and the Prisoner of Azkaban: The ...</td>\n",
       "      <td>J.K. Rowling</td>\n",
       "      <td>4.9</td>\n",
       "      <td>3146</td>\n",
       "      <td>30</td>\n",
       "      <td>Fiction</td>\n",
       "    </tr>\n",
       "    <tr>\n",
       "      <th>410</th>\n",
       "      <td>The Hunger Games Trilogy Boxed Set (1)</td>\n",
       "      <td>Suzanne Collins</td>\n",
       "      <td>4.8</td>\n",
       "      <td>16949</td>\n",
       "      <td>30</td>\n",
       "      <td>Fiction</td>\n",
       "    </tr>\n",
       "    <tr>\n",
       "      <th>45</th>\n",
       "      <td>Capital in the Twenty First Century</td>\n",
       "      <td>Thomas Piketty</td>\n",
       "      <td>4.5</td>\n",
       "      <td>2884</td>\n",
       "      <td>28</td>\n",
       "      <td>Non Fiction</td>\n",
       "    </tr>\n",
       "    <tr>\n",
       "      <th>320</th>\n",
       "      <td>The 5 Love Languages: The Secret to Love That ...</td>\n",
       "      <td>Gary Chapman</td>\n",
       "      <td>4.7</td>\n",
       "      <td>3477</td>\n",
       "      <td>28</td>\n",
       "      <td>Non Fiction</td>\n",
       "    </tr>\n",
       "    <tr>\n",
       "      <th>228</th>\n",
       "      <td>Mastering the Art of French Cooking, Vol. 2</td>\n",
       "      <td>Julia Child</td>\n",
       "      <td>4.8</td>\n",
       "      <td>2926</td>\n",
       "      <td>27</td>\n",
       "      <td>Non Fiction</td>\n",
       "    </tr>\n",
       "    <tr>\n",
       "      <th>265</th>\n",
       "      <td>Player's Handbook (Dungeons &amp; Dragons)</td>\n",
       "      <td>Wizards RPG Team</td>\n",
       "      <td>4.8</td>\n",
       "      <td>16990</td>\n",
       "      <td>27</td>\n",
       "      <td>Fiction</td>\n",
       "    </tr>\n",
       "  </tbody>\n",
       "</table>\n",
       "</div>"
      ],
      "text/plain": [
       "                                                  Name  \\\n",
       "69   Diagnostic and Statistical Manual of Mental Di...   \n",
       "473                       The Twilight Saga Collection   \n",
       "151                           Hamilton: The Revolution   \n",
       "346  The Book of Basketball: The NBA According to T...   \n",
       "159         Harry Potter Paperback Box Set (Books 1-7)   \n",
       "271  Publication Manual of the American Psychologic...   \n",
       "524                                           Watchmen   \n",
       "439                       The Official SAT Study Guide   \n",
       "338                                      The Alchemist   \n",
       "444  The Official SAT Study Guide, 2016 Edition (Of...   \n",
       "12                             A Stolen Life: A Memoir   \n",
       "108  Fifty Shades Trilogy (Fifty Shades of Grey / F...   \n",
       "6    A Game of Thrones / A Clash of Kings / A Storm...   \n",
       "153  Harry Potter and the Chamber of Secrets: The I...   \n",
       "156  Harry Potter and the Prisoner of Azkaban: The ...   \n",
       "410             The Hunger Games Trilogy Boxed Set (1)   \n",
       "45                 Capital in the Twenty First Century   \n",
       "320  The 5 Love Languages: The Secret to Love That ...   \n",
       "228        Mastering the Art of French Cooking, Vol. 2   \n",
       "265             Player's Handbook (Dungeons & Dragons)   \n",
       "\n",
       "                                 Author  User Rating  Reviews  Price  \\\n",
       "69     American Psychiatric Association          4.5     6679    105   \n",
       "473                     Stephenie Meyer          4.7     3801     82   \n",
       "151                  Lin-Manuel Miranda          4.9     5867     54   \n",
       "346                        Bill Simmons          4.7      858     53   \n",
       "159                       J. K. Rowling          4.8    13471     52   \n",
       "271  American Psychological Association          4.5     8580     46   \n",
       "524                          Alan Moore          4.8     3829     42   \n",
       "439                   The College Board          4.4     1201     40   \n",
       "338                        Paulo Coelho          4.7    35799     39   \n",
       "444                   The College Board          4.3      807     36   \n",
       "12                        Jaycee Dugard          4.6     4149     32   \n",
       "108                           E L James          4.5    13964     32   \n",
       "6                   George R. R. Martin          4.7    19735     30   \n",
       "153                        J.K. Rowling          4.9    19622     30   \n",
       "156                        J.K. Rowling          4.9     3146     30   \n",
       "410                     Suzanne Collins          4.8    16949     30   \n",
       "45                       Thomas Piketty          4.5     2884     28   \n",
       "320                        Gary Chapman          4.7     3477     28   \n",
       "228                         Julia Child          4.8     2926     27   \n",
       "265                    Wizards RPG Team          4.8    16990     27   \n",
       "\n",
       "           Genre  \n",
       "69   Non Fiction  \n",
       "473      Fiction  \n",
       "151  Non Fiction  \n",
       "346  Non Fiction  \n",
       "159      Fiction  \n",
       "271  Non Fiction  \n",
       "524      Fiction  \n",
       "439  Non Fiction  \n",
       "338      Fiction  \n",
       "444  Non Fiction  \n",
       "12   Non Fiction  \n",
       "108      Fiction  \n",
       "6        Fiction  \n",
       "153      Fiction  \n",
       "156      Fiction  \n",
       "410      Fiction  \n",
       "45   Non Fiction  \n",
       "320  Non Fiction  \n",
       "228  Non Fiction  \n",
       "265      Fiction  "
      ]
     },
     "execution_count": 11,
     "metadata": {},
     "output_type": "execute_result"
    }
   ],
   "source": [
    "#I used df_price to avoid duplicates with the same year while keeping the price column\n",
    "df_price.nlargest(20,\"Price\")"
   ]
  },
  {
   "cell_type": "markdown",
   "metadata": {},
   "source": [
    "I did the same with the lowest-priced bestsellers."
   ]
  },
  {
   "cell_type": "code",
   "execution_count": 12,
   "metadata": {},
   "outputs": [
    {
     "data": {
      "text/html": [
       "<div>\n",
       "<style scoped>\n",
       "    .dataframe tbody tr th:only-of-type {\n",
       "        vertical-align: middle;\n",
       "    }\n",
       "\n",
       "    .dataframe tbody tr th {\n",
       "        vertical-align: top;\n",
       "    }\n",
       "\n",
       "    .dataframe thead th {\n",
       "        text-align: right;\n",
       "    }\n",
       "</style>\n",
       "<table border=\"1\" class=\"dataframe\">\n",
       "  <thead>\n",
       "    <tr style=\"text-align: right;\">\n",
       "      <th></th>\n",
       "      <th>Name</th>\n",
       "      <th>Author</th>\n",
       "      <th>User Rating</th>\n",
       "      <th>Reviews</th>\n",
       "      <th>Price</th>\n",
       "      <th>Genre</th>\n",
       "    </tr>\n",
       "  </thead>\n",
       "  <tbody>\n",
       "    <tr>\n",
       "      <th>91</th>\n",
       "      <td>Eat This Not That! Supermarket Survival Guide:...</td>\n",
       "      <td>David Zinczenko</td>\n",
       "      <td>4.5</td>\n",
       "      <td>720</td>\n",
       "      <td>1</td>\n",
       "      <td>Non Fiction</td>\n",
       "    </tr>\n",
       "    <tr>\n",
       "      <th>11</th>\n",
       "      <td>A Patriot's History of the United States: From...</td>\n",
       "      <td>Larry Schweikart</td>\n",
       "      <td>4.6</td>\n",
       "      <td>460</td>\n",
       "      <td>2</td>\n",
       "      <td>Non Fiction</td>\n",
       "    </tr>\n",
       "    <tr>\n",
       "      <th>103</th>\n",
       "      <td>Fear: Trump in the White House</td>\n",
       "      <td>Bob Woodward</td>\n",
       "      <td>4.4</td>\n",
       "      <td>6042</td>\n",
       "      <td>2</td>\n",
       "      <td>Non Fiction</td>\n",
       "    </tr>\n",
       "    <tr>\n",
       "      <th>264</th>\n",
       "      <td>Percy Jackson and the Olympians Paperback Boxe...</td>\n",
       "      <td>Rick Riordan</td>\n",
       "      <td>4.8</td>\n",
       "      <td>548</td>\n",
       "      <td>2</td>\n",
       "      <td>Fiction</td>\n",
       "    </tr>\n",
       "    <tr>\n",
       "      <th>388</th>\n",
       "      <td>The Girl with the Dragon Tattoo (Millennium Se...</td>\n",
       "      <td>Stieg Larsson</td>\n",
       "      <td>4.4</td>\n",
       "      <td>10559</td>\n",
       "      <td>2</td>\n",
       "      <td>Fiction</td>\n",
       "    </tr>\n",
       "    <tr>\n",
       "      <th>8</th>\n",
       "      <td>A Higher Loyalty: Truth, Lies, and Leadership</td>\n",
       "      <td>James Comey</td>\n",
       "      <td>4.7</td>\n",
       "      <td>5983</td>\n",
       "      <td>3</td>\n",
       "      <td>Non Fiction</td>\n",
       "    </tr>\n",
       "    <tr>\n",
       "      <th>15</th>\n",
       "      <td>Adult Coloring Book Designs: Stress Relief Col...</td>\n",
       "      <td>Adult Coloring Book Designs</td>\n",
       "      <td>4.5</td>\n",
       "      <td>2313</td>\n",
       "      <td>4</td>\n",
       "      <td>Non Fiction</td>\n",
       "    </tr>\n",
       "    <tr>\n",
       "      <th>43</th>\n",
       "      <td>Calm the F*ck Down: An Irreverent Adult Colori...</td>\n",
       "      <td>Sasha O'Hara</td>\n",
       "      <td>4.6</td>\n",
       "      <td>10369</td>\n",
       "      <td>4</td>\n",
       "      <td>Non Fiction</td>\n",
       "    </tr>\n",
       "    <tr>\n",
       "      <th>54</th>\n",
       "      <td>Creative Haven Creative Cats Coloring Book (Ad...</td>\n",
       "      <td>Marjorie Sarnat</td>\n",
       "      <td>4.8</td>\n",
       "      <td>4022</td>\n",
       "      <td>4</td>\n",
       "      <td>Non Fiction</td>\n",
       "    </tr>\n",
       "    <tr>\n",
       "      <th>60</th>\n",
       "      <td>Dead And Gone: A Sookie Stackhouse Novel (Sook...</td>\n",
       "      <td>Charlaine Harris</td>\n",
       "      <td>4.6</td>\n",
       "      <td>1541</td>\n",
       "      <td>4</td>\n",
       "      <td>Fiction</td>\n",
       "    </tr>\n",
       "    <tr>\n",
       "      <th>62</th>\n",
       "      <td>Dead Reckoning (Sookie Stackhouse/True Blood, ...</td>\n",
       "      <td>Charlaine Harris</td>\n",
       "      <td>4.2</td>\n",
       "      <td>2094</td>\n",
       "      <td>4</td>\n",
       "      <td>Fiction</td>\n",
       "    </tr>\n",
       "    <tr>\n",
       "      <th>83</th>\n",
       "      <td>Dog Man: Brawl of the Wild: From the Creator o...</td>\n",
       "      <td>Dav Pilkey</td>\n",
       "      <td>4.9</td>\n",
       "      <td>7235</td>\n",
       "      <td>4</td>\n",
       "      <td>Fiction</td>\n",
       "    </tr>\n",
       "    <tr>\n",
       "      <th>110</th>\n",
       "      <td>First 100 Words</td>\n",
       "      <td>Roger Priddy</td>\n",
       "      <td>4.7</td>\n",
       "      <td>17323</td>\n",
       "      <td>4</td>\n",
       "      <td>Non Fiction</td>\n",
       "    </tr>\n",
       "    <tr>\n",
       "      <th>123</th>\n",
       "      <td>Giraffes Can't Dance</td>\n",
       "      <td>Giles Andreae</td>\n",
       "      <td>4.8</td>\n",
       "      <td>14038</td>\n",
       "      <td>4</td>\n",
       "      <td>Fiction</td>\n",
       "    </tr>\n",
       "    <tr>\n",
       "      <th>160</th>\n",
       "      <td>Have a Little Faith: A True Story</td>\n",
       "      <td>Mitch Albom</td>\n",
       "      <td>4.8</td>\n",
       "      <td>1930</td>\n",
       "      <td>4</td>\n",
       "      <td>Non Fiction</td>\n",
       "    </tr>\n",
       "    <tr>\n",
       "      <th>178</th>\n",
       "      <td>If Animals Kissed Good Night</td>\n",
       "      <td>Ann Whitford Paul</td>\n",
       "      <td>4.8</td>\n",
       "      <td>16643</td>\n",
       "      <td>4</td>\n",
       "      <td>Fiction</td>\n",
       "    </tr>\n",
       "    <tr>\n",
       "      <th>204</th>\n",
       "      <td>Knock-Knock Jokes for Kids</td>\n",
       "      <td>Rob Elliott</td>\n",
       "      <td>4.5</td>\n",
       "      <td>3673</td>\n",
       "      <td>4</td>\n",
       "      <td>Non Fiction</td>\n",
       "    </tr>\n",
       "    <tr>\n",
       "      <th>208</th>\n",
       "      <td>Laugh-Out-Loud Jokes for Kids</td>\n",
       "      <td>Rob Elliott</td>\n",
       "      <td>4.6</td>\n",
       "      <td>6990</td>\n",
       "      <td>4</td>\n",
       "      <td>Non Fiction</td>\n",
       "    </tr>\n",
       "    <tr>\n",
       "      <th>281</th>\n",
       "      <td>Puppy Birthday to You! (Paw Patrol) (Little Go...</td>\n",
       "      <td>Golden Books</td>\n",
       "      <td>4.8</td>\n",
       "      <td>4757</td>\n",
       "      <td>4</td>\n",
       "      <td>Fiction</td>\n",
       "    </tr>\n",
       "    <tr>\n",
       "      <th>490</th>\n",
       "      <td>The Wonky Donkey</td>\n",
       "      <td>Craig Smith</td>\n",
       "      <td>4.8</td>\n",
       "      <td>30183</td>\n",
       "      <td>4</td>\n",
       "      <td>Fiction</td>\n",
       "    </tr>\n",
       "  </tbody>\n",
       "</table>\n",
       "</div>"
      ],
      "text/plain": [
       "                                                  Name  \\\n",
       "91   Eat This Not That! Supermarket Survival Guide:...   \n",
       "11   A Patriot's History of the United States: From...   \n",
       "103                     Fear: Trump in the White House   \n",
       "264  Percy Jackson and the Olympians Paperback Boxe...   \n",
       "388  The Girl with the Dragon Tattoo (Millennium Se...   \n",
       "8        A Higher Loyalty: Truth, Lies, and Leadership   \n",
       "15   Adult Coloring Book Designs: Stress Relief Col...   \n",
       "43   Calm the F*ck Down: An Irreverent Adult Colori...   \n",
       "54   Creative Haven Creative Cats Coloring Book (Ad...   \n",
       "60   Dead And Gone: A Sookie Stackhouse Novel (Sook...   \n",
       "62   Dead Reckoning (Sookie Stackhouse/True Blood, ...   \n",
       "83   Dog Man: Brawl of the Wild: From the Creator o...   \n",
       "110                                    First 100 Words   \n",
       "123                               Giraffes Can't Dance   \n",
       "160                  Have a Little Faith: A True Story   \n",
       "178                       If Animals Kissed Good Night   \n",
       "204                         Knock-Knock Jokes for Kids   \n",
       "208                      Laugh-Out-Loud Jokes for Kids   \n",
       "281  Puppy Birthday to You! (Paw Patrol) (Little Go...   \n",
       "490                                   The Wonky Donkey   \n",
       "\n",
       "                          Author  User Rating  Reviews  Price        Genre  \n",
       "91               David Zinczenko          4.5      720      1  Non Fiction  \n",
       "11              Larry Schweikart          4.6      460      2  Non Fiction  \n",
       "103                 Bob Woodward          4.4     6042      2  Non Fiction  \n",
       "264                 Rick Riordan          4.8      548      2      Fiction  \n",
       "388                Stieg Larsson          4.4    10559      2      Fiction  \n",
       "8                    James Comey          4.7     5983      3  Non Fiction  \n",
       "15   Adult Coloring Book Designs          4.5     2313      4  Non Fiction  \n",
       "43                  Sasha O'Hara          4.6    10369      4  Non Fiction  \n",
       "54               Marjorie Sarnat          4.8     4022      4  Non Fiction  \n",
       "60              Charlaine Harris          4.6     1541      4      Fiction  \n",
       "62              Charlaine Harris          4.2     2094      4      Fiction  \n",
       "83                    Dav Pilkey          4.9     7235      4      Fiction  \n",
       "110                 Roger Priddy          4.7    17323      4  Non Fiction  \n",
       "123                Giles Andreae          4.8    14038      4      Fiction  \n",
       "160                  Mitch Albom          4.8     1930      4  Non Fiction  \n",
       "178            Ann Whitford Paul          4.8    16643      4      Fiction  \n",
       "204                  Rob Elliott          4.5     3673      4  Non Fiction  \n",
       "208                  Rob Elliott          4.6     6990      4  Non Fiction  \n",
       "281                 Golden Books          4.8     4757      4      Fiction  \n",
       "490                  Craig Smith          4.8    30183      4      Fiction  "
      ]
     },
     "execution_count": 12,
     "metadata": {},
     "output_type": "execute_result"
    }
   ],
   "source": [
    "\n",
    "df_price.nsmallest(20,'Price')"
   ]
  },
  {
   "cell_type": "markdown",
   "metadata": {},
   "source": [
    "# Section 3: Exploratory Data Visualization"
   ]
  },
  {
   "cell_type": "markdown",
   "metadata": {},
   "source": [
    "I was curious to see the spread of the number of reviews each book has, so I created a boxplot with this data. I found the median number of reviews for a bestselling book on Amazon is ~9000."
   ]
  },
  {
   "cell_type": "code",
   "execution_count": 13,
   "metadata": {},
   "outputs": [
    {
     "data": {
      "text/plain": [
       "<Axes: title={'center': 'Distribution of Reviews'}, xlabel='Number of Reviews', ylabel='Reviews'>"
      ]
     },
     "execution_count": 13,
     "metadata": {},
     "output_type": "execute_result"
    },
    {
     "data": {
      "image/png": "[encoded data removed]",
      "text/plain": [
       "<Figure size 800x500 with 1 Axes>"
      ]
     },
     "metadata": {},
     "output_type": "display_data"
    }
   ],
   "source": [
    "reviews= df_reviews[\"Reviews\"].plot.box(vert=False,xlabel=\"Number of Reviews\", ylabel=\"Reviews\",figsize=(8,5),title=\"Distribution of Reviews\")\n",
    "reviews\n"
   ]
  },
  {
   "cell_type": "markdown",
   "metadata": {},
   "source": [
    "I did the same with price, and found that the 50th percentile is ~$15."
   ]
  },
  {
   "cell_type": "code",
   "execution_count": 14,
   "metadata": {},
   "outputs": [
    {
     "data": {
      "text/plain": [
       "<Axes: title={'center': 'Distribution of Prices'}, xlabel='Dollars', ylabel='Price'>"
      ]
     },
     "execution_count": 14,
     "metadata": {},
     "output_type": "execute_result"
    },
    {
     "data": {
      "image/png": "[encoded data removed]",
      "text/plain": [
       "<Figure size 800x500 with 1 Axes>"
      ]
     },
     "metadata": {},
     "output_type": "display_data"
    }
   ],
   "source": [
    "price= df_price[\"Price\"].plot.box(vert=False, xlabel=\"Dollars\",ylabel=\"Price\",figsize=(8,5),title=\"Distribution of Prices\")\n",
    "price\n"
   ]
  },
  {
   "cell_type": "markdown",
   "metadata": {},
   "source": [
    "I was curious to see if there is a correlation between the rating a book has and the amount of reviews it has, and found that books reviewed at a higher frequency tend to have higher user ratings."
   ]
  },
  {
   "cell_type": "code",
   "execution_count": 15,
   "metadata": {},
   "outputs": [
    {
     "data": {
      "text/plain": [
       "<Axes: title={'center': 'Book Rating Frequency'}, xlabel='User Rating', ylabel='Frequency'>"
      ]
     },
     "execution_count": 15,
     "metadata": {},
     "output_type": "execute_result"
    },
    {
     "data": {
      "image/png": "[encoded data removed]",
      "text/plain": [
       "<Figure size 800x500 with 1 Axes>"
      ]
     },
     "metadata": {},
     "output_type": "display_data"
    }
   ],
   "source": [
    "df_reviews['User Rating'].plot.hist(xlabel=\"User Rating\",ylabel=\"Frequency\",figsize=(8,5),title=\"Book Rating Frequency\")"
   ]
  },
  {
   "cell_type": "markdown",
   "metadata": {},
   "source": [
    "I wanted to see if there is a difference in the total amount of reviews for fiction and nonfiction books. While there are more nonfiction books in this dataset, I found that fiction books have more reviews."
   ]
  },
  {
   "cell_type": "code",
   "execution_count": 16,
   "metadata": {},
   "outputs": [
    {
     "data": {
      "image/png": "[encoded data removed]",
      "text/plain": [
       "<Figure size 640x480 with 1 Axes>"
      ]
     },
     "metadata": {},
     "output_type": "display_data"
    }
   ],
   "source": [
    "dfgenre = df_reviews.groupby(\"Genre\").agg(\"sum\",numeric_only=True).reset_index()\n",
    "genreplot = dfgenre.plot.bar(x=\"Genre\",xlabel=\"Genre\",y=\"Reviews\",ylabel=\"Number of Reviews\", title = \"Fiction and Non Fiction Review Totals\")"
   ]
  },
  {
   "cell_type": "markdown",
   "metadata": {},
   "source": [
    "I did the same thing with user ratings instead of reviews and found that nonfiction books have a greater sum of user ratings."
   ]
  },
  {
   "cell_type": "code",
   "execution_count": 17,
   "metadata": {},
   "outputs": [
    {
     "data": {
      "image/png": "[encoded data removed]",
      "text/plain": [
       "<Figure size 640x480 with 1 Axes>"
      ]
     },
     "metadata": {},
     "output_type": "display_data"
    }
   ],
   "source": [
    "genreplot2 = dfgenre.plot.bar(x=\"Genre\",xlabel=\"Genre\",y=\"User Rating\",ylabel=\"User Rating\", title = \"Fiction and Non Fiction User Rating Totals\")"
   ]
  },
  {
   "cell_type": "markdown",
   "metadata": {},
   "source": [
    "Using a scatterplot, I found that most books in this bestsellers dataset have 25,000 or less reviews and are ~$20 or under. I found that books with a higher number of reviews tend to be priced lower."
   ]
  },
  {
   "cell_type": "code",
   "execution_count": 18,
   "metadata": {},
   "outputs": [
    {
     "data": {
      "text/plain": [
       "<Axes: title={'center': 'Price and Number of Reviews'}, xlabel='Price', ylabel='Reviews'>"
      ]
     },
     "execution_count": 18,
     "metadata": {},
     "output_type": "execute_result"
    },
    {
     "data": {
      "image/png": "[encoded data removed]",
      "text/plain": [
       "<Figure size 640x480 with 1 Axes>"
      ]
     },
     "metadata": {},
     "output_type": "display_data"
    }
   ],
   "source": [
    "df.plot.scatter(x=\"Price\",xlabel=\"Price\",y=\"Reviews\",ylabel=\"Reviews\",title=\"Price and Number of Reviews\")\n"
   ]
  },
  {
   "cell_type": "markdown",
   "metadata": {},
   "source": [
    "Finally, I created a plot showing the total sum of the prices bestsellers in a year compared to the year to show how prices of bestsellers on Amazon have changed."
   ]
  },
  {
   "cell_type": "code",
   "execution_count": 19,
   "metadata": {},
   "outputs": [
    {
     "data": {
      "image/png": "[encoded data removed]",
      "text/plain": [
       "<Figure size 640x480 with 1 Axes>"
      ]
     },
     "metadata": {},
     "output_type": "display_data"
    }
   ],
   "source": [
    "pricesum = df.groupby(\"Year\").agg(\"sum\",numeric_only=True).reset_index()\n",
    "pricesum\n",
    "plot3 = pricesum.plot.bar(x=\"Year\", xlabel=\"Year\",y=\"Price\",ylabel = \"Price\", title = \"Year vs. Sum of Prices\")"
   ]
  },
  {
   "cell_type": "markdown",
   "metadata": {},
   "source": [
    "# Section 4: Planning For Part 2"
   ]
  },
  {
   "cell_type": "markdown",
   "metadata": {},
   "source": [
    "Some observations that I've made are that children fiction's books tend to have higher ratings, young adult books tend to have more reviews,books with higher ratings tend to have a larger number of reviews, and that books with large amounts of reviews tend to be priced under $20.\n",
    "\n",
    "Some ideas I have for questions are: Can we predict the year a book was sold based on its price? Can we predict the genre of a book based on its user ratings, price, and/or reviews? Can we predict the price of a book based on its ratings?"
   ]
  },
  {
   "cell_type": "markdown",
   "metadata": {},
   "source": [
    "# Section 5: Data Science "
   ]
  },
  {
   "cell_type": "markdown",
   "metadata": {},
   "source": [
    "I answering the question \"Can the price of a book be predicted based on the year it was sold and its genre?\" This is a different question than my previous brainstormed questions, and I'm answering it because it is something I am curious about. I plan on using Linear Regression to answer this question."
   ]
  },
  {
   "cell_type": "code",
   "execution_count": 20,
   "metadata": {},
   "outputs": [
    {
     "data": {
      "text/html": [
       "<div>\n",
       "<style scoped>\n",
       "    .dataframe tbody tr th:only-of-type {\n",
       "        vertical-align: middle;\n",
       "    }\n",
       "\n",
       "    .dataframe tbody tr th {\n",
       "        vertical-align: top;\n",
       "    }\n",
       "\n",
       "    .dataframe thead th {\n",
       "        text-align: right;\n",
       "    }\n",
       "</style>\n",
       "<table border=\"1\" class=\"dataframe\">\n",
       "  <thead>\n",
       "    <tr style=\"text-align: right;\">\n",
       "      <th></th>\n",
       "      <th>Year</th>\n",
       "      <th>predict</th>\n",
       "    </tr>\n",
       "  </thead>\n",
       "  <tbody>\n",
       "    <tr>\n",
       "      <th>0</th>\n",
       "      <td>2015</td>\n",
       "      <td>12.858925</td>\n",
       "    </tr>\n",
       "  </tbody>\n",
       "</table>\n",
       "</div>"
      ],
      "text/plain": [
       "   Year    predict\n",
       "0  2015  12.858925"
      ]
     },
     "execution_count": 20,
     "metadata": {},
     "output_type": "execute_result"
    }
   ],
   "source": [
    "\n",
    "from sklearn.linear_model import LinearRegression\n",
    "model = LinearRegression()\n",
    "model = model.fit( df[ [\"Year\"] ],df[\"Price\"]  )\n",
    "data = []\n",
    "data.append( {\"Year\": 2015,})\n",
    "df1 = pd.DataFrame(data)\n",
    "df1[\"predict\"] = model.predict( df1 )\n",
    "df1\n",
    "\n"
   ]
  },
  {
   "cell_type": "markdown",
   "metadata": {},
   "source": [
    "I am also curious to see if I can predict the price of a book based on its year, so I am going to use Linear Regression to answer this question."
   ]
  },
  {
   "cell_type": "code",
   "execution_count": 21,
   "metadata": {},
   "outputs": [
    {
     "data": {
      "text/html": [
       "<div>\n",
       "<style scoped>\n",
       "    .dataframe tbody tr th:only-of-type {\n",
       "        vertical-align: middle;\n",
       "    }\n",
       "\n",
       "    .dataframe tbody tr th {\n",
       "        vertical-align: top;\n",
       "    }\n",
       "\n",
       "    .dataframe thead th {\n",
       "        text-align: right;\n",
       "    }\n",
       "</style>\n",
       "<table border=\"1\" class=\"dataframe\">\n",
       "  <thead>\n",
       "    <tr style=\"text-align: right;\">\n",
       "      <th></th>\n",
       "      <th>Price</th>\n",
       "      <th>predict</th>\n",
       "    </tr>\n",
       "  </thead>\n",
       "  <tbody>\n",
       "    <tr>\n",
       "      <th>0</th>\n",
       "      <td>20</td>\n",
       "      <td>2013.693401</td>\n",
       "    </tr>\n",
       "  </tbody>\n",
       "</table>\n",
       "</div>"
      ],
      "text/plain": [
       "   Price      predict\n",
       "0     20  2013.693401"
      ]
     },
     "execution_count": 21,
     "metadata": {},
     "output_type": "execute_result"
    }
   ],
   "source": [
    "from sklearn.linear_model import LinearRegression\n",
    "model = LinearRegression()\n",
    "model = model.fit( df[ [\"Price\"] ],df[\"Year\"]  )\n",
    "data = []\n",
    "data.append( {\"Price\": 20,})\n",
    "df2 = pd.DataFrame(data)\n",
    "df2[\"predict\"] = model.predict( df2 )\n",
    "df2\n"
   ]
  },
  {
   "cell_type": "markdown",
   "metadata": {},
   "source": [
    "# Section 6: A Different Data Visualization"
   ]
  },
  {
   "cell_type": "markdown",
   "metadata": {},
   "source": [
    "This visualization shows a scatterplot with a line of best fit for the genre and price using seaborn."
   ]
  },
  {
   "cell_type": "code",
   "execution_count": 32,
   "metadata": {},
   "outputs": [
    {
     "data": {
      "text/plain": [
       "Text(0.5, 1.0, 'Year vs. Price')"
      ]
     },
     "execution_count": 32,
     "metadata": {},
     "output_type": "execute_result"
    },
    {
     "data": {
      "image/png": "[encoded data removed]",
      "text/plain": [
       "<Figure size 640x480 with 1 Axes>"
      ]
     },
     "metadata": {},
     "output_type": "display_data"
    }
   ],
   "source": [
    "import seaborn as sns\n",
    "import matplotlib.pyplot as plt\n",
    "\n",
    "sns.regplot(data=df, x=\"Year\", y=\"Price\", ci=None, line_kws={'color':'red'})\n",
    "plt.title(\"Year vs. Price\")"
   ]
  },
  {
   "cell_type": "markdown",
   "metadata": {},
   "source": [
    "This visualization is a bar plot that shows the genre of books versus the sum prices for that genre. It shows that Non Fiction has a higher sum of prices than fiction."
   ]
  },
  {
   "cell_type": "code",
   "execution_count": 33,
   "metadata": {},
   "outputs": [
    {
     "data": {
      "text/plain": [
       "<Axes: title={'center': 'Genre vs. Sum of Prices'}, xlabel='Genre', ylabel='Price'>"
      ]
     },
     "execution_count": 33,
     "metadata": {},
     "output_type": "execute_result"
    },
    {
     "data": {
      "image/png": "[encoded data removed]",
      "text/plain": [
       "<Figure size 640x480 with 1 Axes>"
      ]
     },
     "metadata": {},
     "output_type": "display_data"
    }
   ],
   "source": [
    "genre = df.groupby(\"Genre\").agg(\"sum\").reset_index()\n",
    "plot4 = genre.plot.bar(x=\"Genre\", xlabel=\"Genre\",y=\"Price\",ylabel = \"Price\", title = \"Genre vs. Sum of Prices\")\n",
    "plot4"
   ]
  },
  {
   "cell_type": "markdown",
   "metadata": {},
   "source": [
    "# Section 7: Summary"
   ]
  },
  {
   "cell_type": "markdown",
   "metadata": {},
   "source": [
    "My dataset is about different bestselling Fiction and Non-Fiction books on Amazon from the years 2009-2019. Through Exploratory Data Analysis, I found out that children's books tend to have the highest user ratings, and that young adult books have the most reviews. Through data visualizations, I found out that Non-Fiction books tend to be priced higher than fiction books using a bar plot; the price sum of Non-Fiction  books is greater than $4000, and the sum of Fiction books is ~$2750. I also found out that the most common rating of a bestselling book is 4.6 using a bar plot; over 120 books are rated 4.6 starts, which is a higher amount than any other rating. Through a histogram visualization , I was also able to find out that the prices of books generally decreased from 2014-2019. By using linear regression, I was able to predict that the average price of a bestselling book on Amazon in 2015 would be $12.86."
   ]
  }
 ],
 "metadata": {
  "kernelspec": {
   "display_name": "Python 3",
   "language": "python",
   "name": "python3"
  },
  "language_info": {
   "codemirror_mode": {
    "name": "ipython",
    "version": 3
   },
   "file_extension": ".py",
   "mimetype": "text/x-python",
   "name": "python",
   "nbconvert_exporter": "python",
   "pygments_lexer": "ipython3",
   "version": "3.12.4"
  }
 },
 "nbformat": 4,
 "nbformat_minor": 2
}
